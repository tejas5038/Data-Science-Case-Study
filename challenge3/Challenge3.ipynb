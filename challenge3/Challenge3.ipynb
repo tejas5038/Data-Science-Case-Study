{
 "cells": [
  {
   "cell_type": "code",
   "execution_count": 1,
   "metadata": {},
   "outputs": [
    {
     "name": "stdout",
     "output_type": "stream",
     "text": [
      "      mean_values  median_values  max_values  min_values\n",
      "days                                                    \n",
      "1               6             10          10          -2\n",
      "2               4              4           5           3\n",
      "3               4              4           4           4\n",
      "4              20             20          20          20\n"
     ]
    }
   ],
   "source": [
    "import pandas as pd\n",
    "\n",
    "#poblem 3a\n",
    "\n",
    "df = pd.DataFrame({'days':[1,1,2,2,1,3,4],'values':[10,10,5,3,-2,4,20]})\n",
    "\n",
    "combined = df.groupby('days').agg({'values': ['mean', 'median', 'max','min']})\n",
    "\n",
    "combined.columns = ['mean_values','median_values','max_values','min_values']\n",
    "\n",
    "\n",
    "print(combined) #final dataframe of problem 3a"
   ]
  },
  {
   "cell_type": "markdown",
   "metadata": {},
   "source": [
    "### Above result is expected output for problem 3a"
   ]
  },
  {
   "cell_type": "code",
   "execution_count": 2,
   "metadata": {},
   "outputs": [
    {
     "name": "stdout",
     "output_type": "stream",
     "text": [
      "              diff\n",
      "employee pos      \n",
      "1004     2    1688\n",
      "1001     2     792\n"
     ]
    }
   ],
   "source": [
    "#problem 3b\n",
    "\n",
    "df1 = pd.DataFrame({'employee': [1001, 1002, 1004, 1001, 1001, 1002, 1004, 1005, 1005],\n",
    "                       'pos': [2, 2, 2, 2, 2, 2, 2, 2, 2],\n",
    "                       'amount': [125, 542, 2345, 892, 100, 1234, 657, 34, 35]})\n",
    "\n",
    "\n",
    "df2 = df1.groupby(['employee','pos'])['amount'].agg(['max','min'])\n",
    "\n",
    "df2['diff'] = df2['max']-df2['min']\n",
    "\n",
    "df3 = df2.sort_values(['diff'],ascending=False).head(2)\n",
    "\n",
    "df4 = df3[['diff']]\n",
    "print(df4)          #final dataframe of problem 3b"
   ]
  },
  {
   "cell_type": "markdown",
   "metadata": {},
   "source": [
    "### Above result is expected output for problem 3b"
   ]
  }
 ],
 "metadata": {
  "kernelspec": {
   "display_name": "Python 3",
   "language": "python",
   "name": "python3"
  },
  "language_info": {
   "codemirror_mode": {
    "name": "ipython",
    "version": 3
   },
   "file_extension": ".py",
   "mimetype": "text/x-python",
   "name": "python",
   "nbconvert_exporter": "python",
   "pygments_lexer": "ipython3",
   "version": "3.7.6"
  }
 },
 "nbformat": 4,
 "nbformat_minor": 4
}
