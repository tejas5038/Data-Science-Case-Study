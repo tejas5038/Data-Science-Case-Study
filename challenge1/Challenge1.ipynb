{
 "cells": [
  {
   "cell_type": "code",
   "execution_count": 5,
   "metadata": {},
   "outputs": [
    {
     "name": "stdout",
     "output_type": "stream",
     "text": [
      "enter capacity of virtual money box  :500\n",
      "enter number of coins you want to add to money box :400\n",
      "\n",
      "\n",
      "succefully added money in money box!!!!!\n",
      "current balance of money box 400\n"
     ]
    }
   ],
   "source": [
    "class MoneyBox:\n",
    "    def __init__(self,capacity):\n",
    "        self.capacity = capacity  #intial capacity \n",
    "        self.number_of_coins = 0  #intially 0 balance in the box\n",
    "\n",
    "    \n",
    "    def can_add(self,v):\n",
    "        if(self.number_of_coins+v<=self.capacity): # check after adding certain vlaue balance should not be more than capacity \n",
    "            self.add(v)\n",
    "            return True\n",
    "        else:\n",
    "            return False\n",
    "    \n",
    "    def add(self,v):\n",
    "        self.number_of_coins = self.number_of_coins + v  # reflect current balance with updated value\n",
    "    \n",
    "  \n",
    "\n",
    "\n",
    "c = int(input(\"enter capacity of virtual money box  :\"))\n",
    "a = MoneyBox(c)  #class instance\n",
    "i = int(input(\"enter number of coins you want to add to money box :\"))\n",
    "if(a.can_add(i)):  #method call\n",
    "    print(\"\\n\")\n",
    "    print(\"succefully added money in money box!!!!!\")\n",
    "    print(\"current balance of money box\",a.number_of_coins)\n",
    "else:\n",
    "    print(\"\\n\")\n",
    "    print(\"overflow you can not add more than capacity of money box!!!!!!\")\n",
    "    print(\"current balance of money box\",a.number_of_coins)"
   ]
  },
  {
   "cell_type": "markdown",
   "metadata": {},
   "source": [
    "### Entered balance is less than capacity.It will be reflected in current balance"
   ]
  },
  {
   "cell_type": "code",
   "execution_count": 3,
   "metadata": {},
   "outputs": [
    {
     "name": "stdout",
     "output_type": "stream",
     "text": [
      "enter capacity of virtual money box  :500\n",
      "enter number of coins you want to add to money box :600\n",
      "\n",
      "\n",
      "overflow you can not add more than capacity of money box!!!!!!\n",
      "current balance of money box 0\n"
     ]
    }
   ],
   "source": [
    "class MoneyBox:\n",
    "    def __init__(self,capacity):\n",
    "        self.capacity = capacity  #intial capacity \n",
    "        self.number_of_coins = 0  #intially 0 balance in the box\n",
    "\n",
    "    \n",
    "    def can_add(self,v):\n",
    "        if(self.number_of_coins+v<=self.capacity): # check after adding certain vlaue balance should not be more than capacity \n",
    "            self.add(v)\n",
    "            return True\n",
    "        else:\n",
    "            return False\n",
    "    \n",
    "    def add(self,v):\n",
    "        self.number_of_coins = self.number_of_coins + v  # reflect current balance with updated value\n",
    "    \n",
    "  \n",
    "\n",
    "\n",
    "c = int(input(\"enter capacity of virtual money box  :\"))\n",
    "a = MoneyBox(c)  #class instance\n",
    "i = int(input(\"enter number of coins you want to add to money box :\"))\n",
    "if(a.can_add(i)):  #method call\n",
    "    print(\"\\n\")\n",
    "    print(\"succefully added money in money box!!!!!\")\n",
    "    print(\"current balance of money box\",a.number_of_coins)\n",
    "else:\n",
    "    print(\"\\n\")\n",
    "    print(\"overflow you can not add more than capacity of money box!!!!!!\")\n",
    "    print(\"current balance of money box\",a.number_of_coins)"
   ]
  },
  {
   "cell_type": "markdown",
   "metadata": {},
   "source": [
    "### Entered balance is more than capacity.It will not be reflected in current balance"
   ]
  }
 ],
 "metadata": {
  "kernelspec": {
   "display_name": "Python 3",
   "language": "python",
   "name": "python3"
  },
  "language_info": {
   "codemirror_mode": {
    "name": "ipython",
    "version": 3
   },
   "file_extension": ".py",
   "mimetype": "text/x-python",
   "name": "python",
   "nbconvert_exporter": "python",
   "pygments_lexer": "ipython3",
   "version": "3.7.6"
  }
 },
 "nbformat": 4,
 "nbformat_minor": 4
}
